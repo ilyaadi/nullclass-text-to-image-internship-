{
  "cells": [
    {
      "cell_type": "markdown",
      "id": "0ad34e20",
      "metadata": {
        "id": "0ad34e20"
      },
      "source": [
        "# Task 3: Generator with Cross-Attention for Text-to-Image (GAN)"
      ]
    },
    {
      "cell_type": "code",
      "source": [
        "!pip install -q gdown\n"
      ],
      "metadata": {
        "id": "ya3SZI2_51ZN"
      },
      "id": "ya3SZI2_51ZN",
      "execution_count": 41,
      "outputs": []
    },
    {
      "cell_type": "code",
      "execution_count": 42,
      "id": "4454d9ad",
      "metadata": {
        "id": "4454d9ad"
      },
      "outputs": [],
      "source": [
        "import torch\n",
        "import torch.nn as nn\n",
        "import torch.nn.functional as F\n",
        "import matplotlib.pyplot as plt\n",
        "from torchvision.utils import make_grid\n",
        "import gdown\n",
        "\n"
      ]
    },
    {
      "cell_type": "code",
      "source": [
        "file_id = \"1tdL2D7qGrRdgEkC59BbgJEYhkxNGXWd1\"\n",
        "gdown.download(f\"https://drive.google.com/uc?id={file_id}\", \"generator_model_weights.pth\", quiet=False)\n"
      ],
      "metadata": {
        "colab": {
          "base_uri": "https://localhost:8080/",
          "height": 104
        },
        "id": "aG4RwLEL5_Xn",
        "outputId": "5afdeef2-e10f-44a4-9a02-19f0b3e30e2a"
      },
      "id": "aG4RwLEL5_Xn",
      "execution_count": 43,
      "outputs": [
        {
          "output_type": "stream",
          "name": "stderr",
          "text": [
            "Downloading...\n",
            "From: https://drive.google.com/uc?id=1tdL2D7qGrRdgEkC59BbgJEYhkxNGXWd1\n",
            "To: /content/generator_model_weights.pth\n",
            "0.00B [00:00, ?B/s]\n"
          ]
        },
        {
          "output_type": "execute_result",
          "data": {
            "text/plain": [
              "'generator_model_weights.pth'"
            ],
            "application/vnd.google.colaboratory.intrinsic+json": {
              "type": "string"
            }
          },
          "metadata": {},
          "execution_count": 43
        }
      ]
    },
    {
      "cell_type": "code",
      "execution_count": 44,
      "id": "2f9bfff3",
      "metadata": {
        "id": "2f9bfff3"
      },
      "outputs": [],
      "source": [
        "class CrossAttention(nn.Module):\n",
        "    def __init__(self, query_dim, context_dim, heads=4):\n",
        "        super().__init__()\n",
        "        self.heads = heads\n",
        "        self.scale = (query_dim // heads) ** -0.5\n",
        "        self.to_q = nn.Linear(query_dim, query_dim, bias=False)\n",
        "        self.to_k = nn.Linear(context_dim, query_dim, bias=False)\n",
        "        self.to_v = nn.Linear(context_dim, query_dim, bias=False)\n",
        "        self.to_out = nn.Linear(query_dim, query_dim)\n",
        "\n",
        "    def forward(self, x, context):\n",
        "        B, N, D = x.shape\n",
        "        H = self.heads\n",
        "\n",
        "        q = self.to_q(x).view(B, N, H, D // H).transpose(1, 2)\n",
        "        k = self.to_k(context).view(B, -1, H, D // H).transpose(1, 2)\n",
        "        v = self.to_v(context).view(B, -1, H, D // H).transpose(1, 2)\n",
        "\n",
        "        scores = torch.matmul(q, k.transpose(-2, -1)) * self.scale\n",
        "        attn = torch.softmax(scores, dim=-1)\n",
        "        out = torch.matmul(attn, v)\n",
        "        out = out.transpose(1, 2).contiguous().view(B, N, D)\n",
        "        return self.to_out(out)\n"
      ]
    },
    {
      "cell_type": "code",
      "execution_count": 45,
      "id": "49f86852",
      "metadata": {
        "id": "49f86852"
      },
      "outputs": [],
      "source": [
        "class Generator(nn.Module):\n",
        "    def __init__(self, embed_dim=768, noise_dim=100):\n",
        "        super().__init__()\n",
        "        self.fc = nn.Linear(embed_dim + noise_dim, 256 * 8 * 8)\n",
        "        self.attn = CrossAttention(query_dim=256, context_dim=embed_dim)\n",
        "\n",
        "        self.upsample = nn.Sequential(\n",
        "            nn.BatchNorm2d(256),\n",
        "            nn.ReLU(True),\n",
        "            nn.ConvTranspose2d(256, 128, 4, 2, 1),\n",
        "            nn.BatchNorm2d(128),\n",
        "            nn.ReLU(True),\n",
        "            nn.ConvTranspose2d(128, 64, 4, 2, 1),\n",
        "            nn.BatchNorm2d(64),\n",
        "            nn.ReLU(True),\n",
        "            nn.ConvTranspose2d(64, 3, 4, 2, 1),\n",
        "            nn.Tanh()\n",
        "        )\n",
        "\n",
        "    def forward(self, noise, text_embed):\n",
        "        x = torch.cat((noise, text_embed), dim=1)\n",
        "        x = self.fc(x).view(-1, 256, 8, 8)\n",
        "        B, C, H, W = x.size()\n",
        "        x_flat = x.view(B, C, -1).permute(0, 2, 1)\n",
        "        text_context = text_embed.unsqueeze(1)\n",
        "        x_attn = self.attn(x_flat, text_context)\n",
        "        x = x_attn.permute(0, 2, 1).view(B, C, H, W)\n",
        "        return self.upsample(x)\n"
      ]
    },
    {
      "cell_type": "code",
      "execution_count": 46,
      "id": "9d8ee14a",
      "metadata": {
        "colab": {
          "base_uri": "https://localhost:8080/",
          "height": 463
        },
        "id": "9d8ee14a",
        "outputId": "7f6fbefe-168c-4010-9e3c-dbe0b8d7c7d0"
      },
      "outputs": [
        {
          "output_type": "stream",
          "name": "stdout",
          "text": [
            "Saved weights to 'generator_model_weights.pth'\n"
          ]
        },
        {
          "output_type": "display_data",
          "data": {
            "text/plain": [
              "<Figure size 640x480 with 1 Axes>"
            ],
            "image/png": "[encoded data removed]"
          },
          "metadata": {}
        },
        {
          "output_type": "stream",
          "name": "stdout",
          "text": [
            "Generated Image Shape: torch.Size([1, 3, 64, 64])\n"
          ]
        }
      ],
      "source": [
        "# Instantiate and run generator\n",
        "gen = Generator()\n",
        "noise = torch.randn(1, 100)\n",
        "embed = torch.randn(1, 768)\n",
        "fake_img = gen(noise, embed)\n",
        "\n",
        "# Save weights\n",
        "torch.save(gen.state_dict(), \"generator_model_weights.pth\")\n",
        "gen.eval()\n",
        "\n",
        "print(\"Saved weights to 'generator_model_weights.pth'\")\n",
        "\n",
        "# Load later\n",
        "# gen.load_state_dict(torch.load(\"generator_model_weights.pth\"))\n",
        "# gen.eval()\n",
        "\n",
        "# Display generated image\n",
        "grid = make_grid(fake_img, normalize=True)\n",
        "plt.imshow(grid.permute(1, 2, 0).detach().cpu())\n",
        "plt.title(\"Generated Image (Fake)\")\n",
        "plt.axis(\"off\")\n",
        "plt.show()\n",
        "print(\"Generated Image Shape:\", fake_img.shape)\n"
      ]
    }
  ],
  "metadata": {
    "colab": {
      "provenance": []
    },
    "language_info": {
      "name": "python"
    },
    "kernelspec": {
      "name": "python3",
      "display_name": "Python 3"
    }
  },
  "nbformat": 4,
  "nbformat_minor": 5
}